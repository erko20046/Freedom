{
 "cells": [
  {
   "cell_type": "code",
   "id": "initial_id",
   "metadata": {
    "collapsed": true,
    "ExecuteTime": {
     "end_time": "2024-11-20T10:27:26.528846Z",
     "start_time": "2024-11-20T10:27:26.522445Z"
    }
   },
   "source": "import pandas as pd",
   "outputs": [],
   "execution_count": 123
  },
  {
   "metadata": {
    "ExecuteTime": {
     "end_time": "2024-11-20T10:27:27.074322Z",
     "start_time": "2024-11-20T10:27:27.026247Z"
    }
   },
   "cell_type": "code",
   "source": "data_1 = pd.read_csv('krisha_sell_data.csv')",
   "id": "a02518a15982e2f4",
   "outputs": [],
   "execution_count": 124
  },
  {
   "metadata": {
    "ExecuteTime": {
     "end_time": "2024-11-20T10:27:27.447469Z",
     "start_time": "2024-11-20T10:27:27.444605Z"
    }
   },
   "cell_type": "code",
   "source": "data_1.columns",
   "id": "3bdb1e10e1c637ce",
   "outputs": [
    {
     "data": {
      "text/plain": [
       "Index(['Title', 'Price', 'City', 'Type of house', 'Map complex', 'House year',\n",
       "       'Flat floor', 'live square'],\n",
       "      dtype='object')"
      ]
     },
     "execution_count": 125,
     "metadata": {},
     "output_type": "execute_result"
    }
   ],
   "execution_count": 125
  },
  {
   "metadata": {
    "ExecuteTime": {
     "end_time": "2024-11-20T10:27:27.926044Z",
     "start_time": "2024-11-20T10:27:27.923297Z"
    }
   },
   "cell_type": "code",
   "source": "data_1.shape",
   "id": "35e1a8267c451969",
   "outputs": [
    {
     "data": {
      "text/plain": [
       "(2614, 8)"
      ]
     },
     "execution_count": 126,
     "metadata": {},
     "output_type": "execute_result"
    }
   ],
   "execution_count": 126
  },
  {
   "metadata": {
    "ExecuteTime": {
     "end_time": "2024-11-20T10:27:28.487457Z",
     "start_time": "2024-11-20T10:27:28.468408Z"
    }
   },
   "cell_type": "code",
   "source": "data_2 = pd.read_csv('krisha_sell_2.csv')",
   "id": "497abfb84bc58ce4",
   "outputs": [],
   "execution_count": 127
  },
  {
   "metadata": {
    "ExecuteTime": {
     "end_time": "2024-11-20T10:27:29.133466Z",
     "start_time": "2024-11-20T10:27:29.127292Z"
    }
   },
   "cell_type": "code",
   "source": "data_2.columns",
   "id": "8bf2d22a8b7ab6c9",
   "outputs": [
    {
     "data": {
      "text/plain": [
       "Index(['Title', 'Price', 'City', 'Type of house', 'Map complex', 'House year',\n",
       "       'Flat floor', 'live square'],\n",
       "      dtype='object')"
      ]
     },
     "execution_count": 128,
     "metadata": {},
     "output_type": "execute_result"
    }
   ],
   "execution_count": 128
  },
  {
   "metadata": {
    "ExecuteTime": {
     "end_time": "2024-11-20T10:27:29.879647Z",
     "start_time": "2024-11-20T10:27:29.876104Z"
    }
   },
   "cell_type": "code",
   "source": "data_2.shape",
   "id": "94b503e6386c7fbe",
   "outputs": [
    {
     "data": {
      "text/plain": [
       "(1865, 8)"
      ]
     },
     "execution_count": 129,
     "metadata": {},
     "output_type": "execute_result"
    }
   ],
   "execution_count": 129
  },
  {
   "metadata": {
    "ExecuteTime": {
     "end_time": "2024-11-20T10:27:30.593308Z",
     "start_time": "2024-11-20T10:27:30.580347Z"
    }
   },
   "cell_type": "code",
   "source": "data = pd.concat([data_1, data_2], ignore_index=True, axis= 0)",
   "id": "266101b0327cb566",
   "outputs": [],
   "execution_count": 130
  },
  {
   "metadata": {
    "ExecuteTime": {
     "end_time": "2024-11-20T10:27:31.161672Z",
     "start_time": "2024-11-20T10:27:31.155219Z"
    }
   },
   "cell_type": "code",
   "source": "data.shape",
   "id": "44d5800e174a024f",
   "outputs": [
    {
     "data": {
      "text/plain": [
       "(4479, 8)"
      ]
     },
     "execution_count": 131,
     "metadata": {},
     "output_type": "execute_result"
    }
   ],
   "execution_count": 131
  },
  {
   "metadata": {
    "ExecuteTime": {
     "end_time": "2024-11-20T10:27:32.125356Z",
     "start_time": "2024-11-20T10:27:32.112269Z"
    }
   },
   "cell_type": "code",
   "source": "data.head()",
   "id": "3a610dff30b7b3a5",
   "outputs": [
    {
     "data": {
      "text/plain": [
       "                                               Title              Price  \\\n",
       "0  3-комнатная квартира, 115 м², 7/21 этаж, Кенес...     47 000 000 \\n〒   \n",
       "1  1-комнатная квартира, 44.3 м², 9/9 этаж, Нурма...     17 000 000 \\n〒   \n",
       "2  1-комнатная квартира, 40 м², 7/9 этаж, АсылАрм...     16 000 000 \\n〒   \n",
       "3  1-комнатная квартира, 46.1 м², Мусрепова 57/1\\...  от 12 908 000 \\n〒   \n",
       "4  2-комнатная квартира, 57.8 м², 7/12 этаж, мкр ...     36 000 000 \\n〒   \n",
       "\n",
       "                                          City Type of house     Map complex  \\\n",
       "0      Астана, р-н Байконур\\nпоказать на карте    монолитный    Эдем палас-2   \n",
       "1        Астана, Алматы р-н\\nпоказать на карте    монолитный  Grand Victoria   \n",
       "2  Иргели, Алматинская обл.\\nпоказать на карте     кирпичный      Асыл Арман   \n",
       "3  Талгар, Алматинская обл.\\nпоказать на карте    монолитный     Altyn Beket   \n",
       "4    Алматы, Алатауский р-н\\nпоказать на карте    монолитный          Алмалы   \n",
       "\n",
       "   House year Flat floor                     live square  \n",
       "0      2016.0    7 из 21                          115 м²  \n",
       "1      2023.0     9 из 9  44.3 м², Площадь кухни — 12 м²  \n",
       "2      2014.0     7 из 9    40 м², Площадь кухни — 11 м²  \n",
       "3      2025.0        NaN                         46.1 м²  \n",
       "4      2018.0    7 из 12  57.8 м², Площадь кухни — 10 м²  "
      ],
      "text/html": [
       "<div>\n",
       "<style scoped>\n",
       "    .dataframe tbody tr th:only-of-type {\n",
       "        vertical-align: middle;\n",
       "    }\n",
       "\n",
       "    .dataframe tbody tr th {\n",
       "        vertical-align: top;\n",
       "    }\n",
       "\n",
       "    .dataframe thead th {\n",
       "        text-align: right;\n",
       "    }\n",
       "</style>\n",
       "<table border=\"1\" class=\"dataframe\">\n",
       "  <thead>\n",
       "    <tr style=\"text-align: right;\">\n",
       "      <th></th>\n",
       "      <th>Title</th>\n",
       "      <th>Price</th>\n",
       "      <th>City</th>\n",
       "      <th>Type of house</th>\n",
       "      <th>Map complex</th>\n",
       "      <th>House year</th>\n",
       "      <th>Flat floor</th>\n",
       "      <th>live square</th>\n",
       "    </tr>\n",
       "  </thead>\n",
       "  <tbody>\n",
       "    <tr>\n",
       "      <th>0</th>\n",
       "      <td>3-комнатная квартира, 115 м², 7/21 этаж, Кенес...</td>\n",
       "      <td>47 000 000 \\n〒</td>\n",
       "      <td>Астана, р-н Байконур\\nпоказать на карте</td>\n",
       "      <td>монолитный</td>\n",
       "      <td>Эдем палас-2</td>\n",
       "      <td>2016.0</td>\n",
       "      <td>7 из 21</td>\n",
       "      <td>115 м²</td>\n",
       "    </tr>\n",
       "    <tr>\n",
       "      <th>1</th>\n",
       "      <td>1-комнатная квартира, 44.3 м², 9/9 этаж, Нурма...</td>\n",
       "      <td>17 000 000 \\n〒</td>\n",
       "      <td>Астана, Алматы р-н\\nпоказать на карте</td>\n",
       "      <td>монолитный</td>\n",
       "      <td>Grand Victoria</td>\n",
       "      <td>2023.0</td>\n",
       "      <td>9 из 9</td>\n",
       "      <td>44.3 м², Площадь кухни — 12 м²</td>\n",
       "    </tr>\n",
       "    <tr>\n",
       "      <th>2</th>\n",
       "      <td>1-комнатная квартира, 40 м², 7/9 этаж, АсылАрм...</td>\n",
       "      <td>16 000 000 \\n〒</td>\n",
       "      <td>Иргели, Алматинская обл.\\nпоказать на карте</td>\n",
       "      <td>кирпичный</td>\n",
       "      <td>Асыл Арман</td>\n",
       "      <td>2014.0</td>\n",
       "      <td>7 из 9</td>\n",
       "      <td>40 м², Площадь кухни — 11 м²</td>\n",
       "    </tr>\n",
       "    <tr>\n",
       "      <th>3</th>\n",
       "      <td>1-комнатная квартира, 46.1 м², Мусрепова 57/1\\...</td>\n",
       "      <td>от 12 908 000 \\n〒</td>\n",
       "      <td>Талгар, Алматинская обл.\\nпоказать на карте</td>\n",
       "      <td>монолитный</td>\n",
       "      <td>Altyn Beket</td>\n",
       "      <td>2025.0</td>\n",
       "      <td>NaN</td>\n",
       "      <td>46.1 м²</td>\n",
       "    </tr>\n",
       "    <tr>\n",
       "      <th>4</th>\n",
       "      <td>2-комнатная квартира, 57.8 м², 7/12 этаж, мкр ...</td>\n",
       "      <td>36 000 000 \\n〒</td>\n",
       "      <td>Алматы, Алатауский р-н\\nпоказать на карте</td>\n",
       "      <td>монолитный</td>\n",
       "      <td>Алмалы</td>\n",
       "      <td>2018.0</td>\n",
       "      <td>7 из 12</td>\n",
       "      <td>57.8 м², Площадь кухни — 10 м²</td>\n",
       "    </tr>\n",
       "  </tbody>\n",
       "</table>\n",
       "</div>"
      ]
     },
     "execution_count": 132,
     "metadata": {},
     "output_type": "execute_result"
    }
   ],
   "execution_count": 132
  },
  {
   "metadata": {
    "ExecuteTime": {
     "end_time": "2024-11-20T10:27:32.848648Z",
     "start_time": "2024-11-20T10:27:32.844788Z"
    }
   },
   "cell_type": "code",
   "source": "data.columns",
   "id": "89014132be24889b",
   "outputs": [
    {
     "data": {
      "text/plain": [
       "Index(['Title', 'Price', 'City', 'Type of house', 'Map complex', 'House year',\n",
       "       'Flat floor', 'live square'],\n",
       "      dtype='object')"
      ]
     },
     "execution_count": 133,
     "metadata": {},
     "output_type": "execute_result"
    }
   ],
   "execution_count": 133
  },
  {
   "metadata": {
    "ExecuteTime": {
     "end_time": "2024-11-20T10:27:33.569458Z",
     "start_time": "2024-11-20T10:27:33.565821Z"
    }
   },
   "cell_type": "code",
   "source": "data.shape",
   "id": "471290e3a3d2b701",
   "outputs": [
    {
     "data": {
      "text/plain": [
       "(4479, 8)"
      ]
     },
     "execution_count": 134,
     "metadata": {},
     "output_type": "execute_result"
    }
   ],
   "execution_count": 134
  },
  {
   "metadata": {
    "ExecuteTime": {
     "end_time": "2024-11-20T10:27:34.342867Z",
     "start_time": "2024-11-20T10:27:34.324800Z"
    }
   },
   "cell_type": "code",
   "source": "data.drop_duplicates(inplace=True)",
   "id": "334ef05c6a1af3d4",
   "outputs": [],
   "execution_count": 135
  },
  {
   "metadata": {
    "ExecuteTime": {
     "end_time": "2024-11-20T10:27:34.901653Z",
     "start_time": "2024-11-20T10:27:34.897916Z"
    }
   },
   "cell_type": "code",
   "source": "data.shape",
   "id": "fd05e908b8fa632e",
   "outputs": [
    {
     "data": {
      "text/plain": [
       "(4475, 8)"
      ]
     },
     "execution_count": 136,
     "metadata": {},
     "output_type": "execute_result"
    }
   ],
   "execution_count": 136
  },
  {
   "metadata": {
    "ExecuteTime": {
     "end_time": "2024-11-20T10:27:35.492935Z",
     "start_time": "2024-11-20T10:27:35.482146Z"
    }
   },
   "cell_type": "code",
   "source": "data.isnull().sum()",
   "id": "ac6ff5df135400a",
   "outputs": [
    {
     "data": {
      "text/plain": [
       "Title               1\n",
       "Price               1\n",
       "City                1\n",
       "Type of house     147\n",
       "Map complex      1102\n",
       "House year          1\n",
       "Flat floor       1764\n",
       "live square         1\n",
       "dtype: int64"
      ]
     },
     "execution_count": 137,
     "metadata": {},
     "output_type": "execute_result"
    }
   ],
   "execution_count": 137
  },
  {
   "metadata": {
    "ExecuteTime": {
     "end_time": "2024-11-20T10:27:36.306322Z",
     "start_time": "2024-11-20T10:27:36.294888Z"
    }
   },
   "cell_type": "code",
   "source": "data = data.dropna(subset= ['Price'], axis=0)",
   "id": "4a0e31855ccdc42d",
   "outputs": [],
   "execution_count": 138
  },
  {
   "metadata": {
    "ExecuteTime": {
     "end_time": "2024-11-20T10:27:36.992459Z",
     "start_time": "2024-11-20T10:27:36.985483Z"
    }
   },
   "cell_type": "code",
   "source": "data.isnull().sum()",
   "id": "d2b50db748cd5be",
   "outputs": [
    {
     "data": {
      "text/plain": [
       "Title               0\n",
       "Price               0\n",
       "City                0\n",
       "Type of house     146\n",
       "Map complex      1101\n",
       "House year          0\n",
       "Flat floor       1763\n",
       "live square         0\n",
       "dtype: int64"
      ]
     },
     "execution_count": 139,
     "metadata": {},
     "output_type": "execute_result"
    }
   ],
   "execution_count": 139
  },
  {
   "metadata": {
    "ExecuteTime": {
     "end_time": "2024-11-20T10:27:37.700730Z",
     "start_time": "2024-11-20T10:27:37.689158Z"
    }
   },
   "cell_type": "code",
   "source": "data.head()",
   "id": "a2451f8017091d9b",
   "outputs": [
    {
     "data": {
      "text/plain": [
       "                                               Title              Price  \\\n",
       "0  3-комнатная квартира, 115 м², 7/21 этаж, Кенес...     47 000 000 \\n〒   \n",
       "1  1-комнатная квартира, 44.3 м², 9/9 этаж, Нурма...     17 000 000 \\n〒   \n",
       "2  1-комнатная квартира, 40 м², 7/9 этаж, АсылАрм...     16 000 000 \\n〒   \n",
       "3  1-комнатная квартира, 46.1 м², Мусрепова 57/1\\...  от 12 908 000 \\n〒   \n",
       "4  2-комнатная квартира, 57.8 м², 7/12 этаж, мкр ...     36 000 000 \\n〒   \n",
       "\n",
       "                                          City Type of house     Map complex  \\\n",
       "0      Астана, р-н Байконур\\nпоказать на карте    монолитный    Эдем палас-2   \n",
       "1        Астана, Алматы р-н\\nпоказать на карте    монолитный  Grand Victoria   \n",
       "2  Иргели, Алматинская обл.\\nпоказать на карте     кирпичный      Асыл Арман   \n",
       "3  Талгар, Алматинская обл.\\nпоказать на карте    монолитный     Altyn Beket   \n",
       "4    Алматы, Алатауский р-н\\nпоказать на карте    монолитный          Алмалы   \n",
       "\n",
       "   House year Flat floor                     live square  \n",
       "0      2016.0    7 из 21                          115 м²  \n",
       "1      2023.0     9 из 9  44.3 м², Площадь кухни — 12 м²  \n",
       "2      2014.0     7 из 9    40 м², Площадь кухни — 11 м²  \n",
       "3      2025.0        NaN                         46.1 м²  \n",
       "4      2018.0    7 из 12  57.8 м², Площадь кухни — 10 м²  "
      ],
      "text/html": [
       "<div>\n",
       "<style scoped>\n",
       "    .dataframe tbody tr th:only-of-type {\n",
       "        vertical-align: middle;\n",
       "    }\n",
       "\n",
       "    .dataframe tbody tr th {\n",
       "        vertical-align: top;\n",
       "    }\n",
       "\n",
       "    .dataframe thead th {\n",
       "        text-align: right;\n",
       "    }\n",
       "</style>\n",
       "<table border=\"1\" class=\"dataframe\">\n",
       "  <thead>\n",
       "    <tr style=\"text-align: right;\">\n",
       "      <th></th>\n",
       "      <th>Title</th>\n",
       "      <th>Price</th>\n",
       "      <th>City</th>\n",
       "      <th>Type of house</th>\n",
       "      <th>Map complex</th>\n",
       "      <th>House year</th>\n",
       "      <th>Flat floor</th>\n",
       "      <th>live square</th>\n",
       "    </tr>\n",
       "  </thead>\n",
       "  <tbody>\n",
       "    <tr>\n",
       "      <th>0</th>\n",
       "      <td>3-комнатная квартира, 115 м², 7/21 этаж, Кенес...</td>\n",
       "      <td>47 000 000 \\n〒</td>\n",
       "      <td>Астана, р-н Байконур\\nпоказать на карте</td>\n",
       "      <td>монолитный</td>\n",
       "      <td>Эдем палас-2</td>\n",
       "      <td>2016.0</td>\n",
       "      <td>7 из 21</td>\n",
       "      <td>115 м²</td>\n",
       "    </tr>\n",
       "    <tr>\n",
       "      <th>1</th>\n",
       "      <td>1-комнатная квартира, 44.3 м², 9/9 этаж, Нурма...</td>\n",
       "      <td>17 000 000 \\n〒</td>\n",
       "      <td>Астана, Алматы р-н\\nпоказать на карте</td>\n",
       "      <td>монолитный</td>\n",
       "      <td>Grand Victoria</td>\n",
       "      <td>2023.0</td>\n",
       "      <td>9 из 9</td>\n",
       "      <td>44.3 м², Площадь кухни — 12 м²</td>\n",
       "    </tr>\n",
       "    <tr>\n",
       "      <th>2</th>\n",
       "      <td>1-комнатная квартира, 40 м², 7/9 этаж, АсылАрм...</td>\n",
       "      <td>16 000 000 \\n〒</td>\n",
       "      <td>Иргели, Алматинская обл.\\nпоказать на карте</td>\n",
       "      <td>кирпичный</td>\n",
       "      <td>Асыл Арман</td>\n",
       "      <td>2014.0</td>\n",
       "      <td>7 из 9</td>\n",
       "      <td>40 м², Площадь кухни — 11 м²</td>\n",
       "    </tr>\n",
       "    <tr>\n",
       "      <th>3</th>\n",
       "      <td>1-комнатная квартира, 46.1 м², Мусрепова 57/1\\...</td>\n",
       "      <td>от 12 908 000 \\n〒</td>\n",
       "      <td>Талгар, Алматинская обл.\\nпоказать на карте</td>\n",
       "      <td>монолитный</td>\n",
       "      <td>Altyn Beket</td>\n",
       "      <td>2025.0</td>\n",
       "      <td>NaN</td>\n",
       "      <td>46.1 м²</td>\n",
       "    </tr>\n",
       "    <tr>\n",
       "      <th>4</th>\n",
       "      <td>2-комнатная квартира, 57.8 м², 7/12 этаж, мкр ...</td>\n",
       "      <td>36 000 000 \\n〒</td>\n",
       "      <td>Алматы, Алатауский р-н\\nпоказать на карте</td>\n",
       "      <td>монолитный</td>\n",
       "      <td>Алмалы</td>\n",
       "      <td>2018.0</td>\n",
       "      <td>7 из 12</td>\n",
       "      <td>57.8 м², Площадь кухни — 10 м²</td>\n",
       "    </tr>\n",
       "  </tbody>\n",
       "</table>\n",
       "</div>"
      ]
     },
     "execution_count": 140,
     "metadata": {},
     "output_type": "execute_result"
    }
   ],
   "execution_count": 140
  },
  {
   "metadata": {
    "ExecuteTime": {
     "end_time": "2024-11-20T10:27:38.519139Z",
     "start_time": "2024-11-20T10:27:38.513552Z"
    }
   },
   "cell_type": "code",
   "source": "type(data['Price'].loc[0])",
   "id": "e92a40b73f9d49be",
   "outputs": [
    {
     "data": {
      "text/plain": [
       "str"
      ]
     },
     "execution_count": 141,
     "metadata": {},
     "output_type": "execute_result"
    }
   ],
   "execution_count": 141
  },
  {
   "metadata": {
    "ExecuteTime": {
     "end_time": "2024-11-20T10:27:39.417587Z",
     "start_time": "2024-11-20T10:27:39.403516Z"
    }
   },
   "cell_type": "code",
   "source": "data['Price'] = data['Price'].str.replace(r'[\\D]', '', regex=True).astype(int)",
   "id": "c22d74f26bf0ae92",
   "outputs": [],
   "execution_count": 142
  },
  {
   "metadata": {
    "ExecuteTime": {
     "end_time": "2024-11-20T10:27:40.345492Z",
     "start_time": "2024-11-20T10:27:40.335747Z"
    }
   },
   "cell_type": "code",
   "source": "data.head()",
   "id": "b35d51adf1960d4d",
   "outputs": [
    {
     "data": {
      "text/plain": [
       "                                               Title     Price  \\\n",
       "0  3-комнатная квартира, 115 м², 7/21 этаж, Кенес...  47000000   \n",
       "1  1-комнатная квартира, 44.3 м², 9/9 этаж, Нурма...  17000000   \n",
       "2  1-комнатная квартира, 40 м², 7/9 этаж, АсылАрм...  16000000   \n",
       "3  1-комнатная квартира, 46.1 м², Мусрепова 57/1\\...  12908000   \n",
       "4  2-комнатная квартира, 57.8 м², 7/12 этаж, мкр ...  36000000   \n",
       "\n",
       "                                          City Type of house     Map complex  \\\n",
       "0      Астана, р-н Байконур\\nпоказать на карте    монолитный    Эдем палас-2   \n",
       "1        Астана, Алматы р-н\\nпоказать на карте    монолитный  Grand Victoria   \n",
       "2  Иргели, Алматинская обл.\\nпоказать на карте     кирпичный      Асыл Арман   \n",
       "3  Талгар, Алматинская обл.\\nпоказать на карте    монолитный     Altyn Beket   \n",
       "4    Алматы, Алатауский р-н\\nпоказать на карте    монолитный          Алмалы   \n",
       "\n",
       "   House year Flat floor                     live square  \n",
       "0      2016.0    7 из 21                          115 м²  \n",
       "1      2023.0     9 из 9  44.3 м², Площадь кухни — 12 м²  \n",
       "2      2014.0     7 из 9    40 м², Площадь кухни — 11 м²  \n",
       "3      2025.0        NaN                         46.1 м²  \n",
       "4      2018.0    7 из 12  57.8 м², Площадь кухни — 10 м²  "
      ],
      "text/html": [
       "<div>\n",
       "<style scoped>\n",
       "    .dataframe tbody tr th:only-of-type {\n",
       "        vertical-align: middle;\n",
       "    }\n",
       "\n",
       "    .dataframe tbody tr th {\n",
       "        vertical-align: top;\n",
       "    }\n",
       "\n",
       "    .dataframe thead th {\n",
       "        text-align: right;\n",
       "    }\n",
       "</style>\n",
       "<table border=\"1\" class=\"dataframe\">\n",
       "  <thead>\n",
       "    <tr style=\"text-align: right;\">\n",
       "      <th></th>\n",
       "      <th>Title</th>\n",
       "      <th>Price</th>\n",
       "      <th>City</th>\n",
       "      <th>Type of house</th>\n",
       "      <th>Map complex</th>\n",
       "      <th>House year</th>\n",
       "      <th>Flat floor</th>\n",
       "      <th>live square</th>\n",
       "    </tr>\n",
       "  </thead>\n",
       "  <tbody>\n",
       "    <tr>\n",
       "      <th>0</th>\n",
       "      <td>3-комнатная квартира, 115 м², 7/21 этаж, Кенес...</td>\n",
       "      <td>47000000</td>\n",
       "      <td>Астана, р-н Байконур\\nпоказать на карте</td>\n",
       "      <td>монолитный</td>\n",
       "      <td>Эдем палас-2</td>\n",
       "      <td>2016.0</td>\n",
       "      <td>7 из 21</td>\n",
       "      <td>115 м²</td>\n",
       "    </tr>\n",
       "    <tr>\n",
       "      <th>1</th>\n",
       "      <td>1-комнатная квартира, 44.3 м², 9/9 этаж, Нурма...</td>\n",
       "      <td>17000000</td>\n",
       "      <td>Астана, Алматы р-н\\nпоказать на карте</td>\n",
       "      <td>монолитный</td>\n",
       "      <td>Grand Victoria</td>\n",
       "      <td>2023.0</td>\n",
       "      <td>9 из 9</td>\n",
       "      <td>44.3 м², Площадь кухни — 12 м²</td>\n",
       "    </tr>\n",
       "    <tr>\n",
       "      <th>2</th>\n",
       "      <td>1-комнатная квартира, 40 м², 7/9 этаж, АсылАрм...</td>\n",
       "      <td>16000000</td>\n",
       "      <td>Иргели, Алматинская обл.\\nпоказать на карте</td>\n",
       "      <td>кирпичный</td>\n",
       "      <td>Асыл Арман</td>\n",
       "      <td>2014.0</td>\n",
       "      <td>7 из 9</td>\n",
       "      <td>40 м², Площадь кухни — 11 м²</td>\n",
       "    </tr>\n",
       "    <tr>\n",
       "      <th>3</th>\n",
       "      <td>1-комнатная квартира, 46.1 м², Мусрепова 57/1\\...</td>\n",
       "      <td>12908000</td>\n",
       "      <td>Талгар, Алматинская обл.\\nпоказать на карте</td>\n",
       "      <td>монолитный</td>\n",
       "      <td>Altyn Beket</td>\n",
       "      <td>2025.0</td>\n",
       "      <td>NaN</td>\n",
       "      <td>46.1 м²</td>\n",
       "    </tr>\n",
       "    <tr>\n",
       "      <th>4</th>\n",
       "      <td>2-комнатная квартира, 57.8 м², 7/12 этаж, мкр ...</td>\n",
       "      <td>36000000</td>\n",
       "      <td>Алматы, Алатауский р-н\\nпоказать на карте</td>\n",
       "      <td>монолитный</td>\n",
       "      <td>Алмалы</td>\n",
       "      <td>2018.0</td>\n",
       "      <td>7 из 12</td>\n",
       "      <td>57.8 м², Площадь кухни — 10 м²</td>\n",
       "    </tr>\n",
       "  </tbody>\n",
       "</table>\n",
       "</div>"
      ]
     },
     "execution_count": 143,
     "metadata": {},
     "output_type": "execute_result"
    }
   ],
   "execution_count": 143
  },
  {
   "metadata": {
    "ExecuteTime": {
     "end_time": "2024-11-20T10:27:42.942071Z",
     "start_time": "2024-11-20T10:27:42.925404Z"
    }
   },
   "cell_type": "code",
   "source": "data = data.rename(columns={'Price':'Price (in millions) KZT'})",
   "id": "7f128a98190972bd",
   "outputs": [],
   "execution_count": 144
  },
  {
   "metadata": {
    "ExecuteTime": {
     "end_time": "2024-11-20T10:27:44.058072Z",
     "start_time": "2024-11-20T10:27:44.050947Z"
    }
   },
   "cell_type": "code",
   "source": "data['Price (in millions) KZT'] = data['Price (in millions) KZT'] / 1_000_000",
   "id": "e7e6a20374dfd980",
   "outputs": [],
   "execution_count": 145
  },
  {
   "metadata": {
    "ExecuteTime": {
     "end_time": "2024-11-20T10:27:44.837936Z",
     "start_time": "2024-11-20T10:27:44.826898Z"
    }
   },
   "cell_type": "code",
   "source": "data['Price (in millions) KZT'] = data['Price (in millions) KZT'].astype(int)",
   "id": "e4475b1612f29ef2",
   "outputs": [],
   "execution_count": 146
  },
  {
   "metadata": {
    "ExecuteTime": {
     "end_time": "2024-11-20T10:27:45.449188Z",
     "start_time": "2024-11-20T10:27:45.441289Z"
    }
   },
   "cell_type": "code",
   "source": "data.head()",
   "id": "63725e25f5f1de31",
   "outputs": [
    {
     "data": {
      "text/plain": [
       "                                               Title  Price (in millions) KZT  \\\n",
       "0  3-комнатная квартира, 115 м², 7/21 этаж, Кенес...                       47   \n",
       "1  1-комнатная квартира, 44.3 м², 9/9 этаж, Нурма...                       17   \n",
       "2  1-комнатная квартира, 40 м², 7/9 этаж, АсылАрм...                       16   \n",
       "3  1-комнатная квартира, 46.1 м², Мусрепова 57/1\\...                       12   \n",
       "4  2-комнатная квартира, 57.8 м², 7/12 этаж, мкр ...                       36   \n",
       "\n",
       "                                          City Type of house     Map complex  \\\n",
       "0      Астана, р-н Байконур\\nпоказать на карте    монолитный    Эдем палас-2   \n",
       "1        Астана, Алматы р-н\\nпоказать на карте    монолитный  Grand Victoria   \n",
       "2  Иргели, Алматинская обл.\\nпоказать на карте     кирпичный      Асыл Арман   \n",
       "3  Талгар, Алматинская обл.\\nпоказать на карте    монолитный     Altyn Beket   \n",
       "4    Алматы, Алатауский р-н\\nпоказать на карте    монолитный          Алмалы   \n",
       "\n",
       "   House year Flat floor                     live square  \n",
       "0      2016.0    7 из 21                          115 м²  \n",
       "1      2023.0     9 из 9  44.3 м², Площадь кухни — 12 м²  \n",
       "2      2014.0     7 из 9    40 м², Площадь кухни — 11 м²  \n",
       "3      2025.0        NaN                         46.1 м²  \n",
       "4      2018.0    7 из 12  57.8 м², Площадь кухни — 10 м²  "
      ],
      "text/html": [
       "<div>\n",
       "<style scoped>\n",
       "    .dataframe tbody tr th:only-of-type {\n",
       "        vertical-align: middle;\n",
       "    }\n",
       "\n",
       "    .dataframe tbody tr th {\n",
       "        vertical-align: top;\n",
       "    }\n",
       "\n",
       "    .dataframe thead th {\n",
       "        text-align: right;\n",
       "    }\n",
       "</style>\n",
       "<table border=\"1\" class=\"dataframe\">\n",
       "  <thead>\n",
       "    <tr style=\"text-align: right;\">\n",
       "      <th></th>\n",
       "      <th>Title</th>\n",
       "      <th>Price (in millions) KZT</th>\n",
       "      <th>City</th>\n",
       "      <th>Type of house</th>\n",
       "      <th>Map complex</th>\n",
       "      <th>House year</th>\n",
       "      <th>Flat floor</th>\n",
       "      <th>live square</th>\n",
       "    </tr>\n",
       "  </thead>\n",
       "  <tbody>\n",
       "    <tr>\n",
       "      <th>0</th>\n",
       "      <td>3-комнатная квартира, 115 м², 7/21 этаж, Кенес...</td>\n",
       "      <td>47</td>\n",
       "      <td>Астана, р-н Байконур\\nпоказать на карте</td>\n",
       "      <td>монолитный</td>\n",
       "      <td>Эдем палас-2</td>\n",
       "      <td>2016.0</td>\n",
       "      <td>7 из 21</td>\n",
       "      <td>115 м²</td>\n",
       "    </tr>\n",
       "    <tr>\n",
       "      <th>1</th>\n",
       "      <td>1-комнатная квартира, 44.3 м², 9/9 этаж, Нурма...</td>\n",
       "      <td>17</td>\n",
       "      <td>Астана, Алматы р-н\\nпоказать на карте</td>\n",
       "      <td>монолитный</td>\n",
       "      <td>Grand Victoria</td>\n",
       "      <td>2023.0</td>\n",
       "      <td>9 из 9</td>\n",
       "      <td>44.3 м², Площадь кухни — 12 м²</td>\n",
       "    </tr>\n",
       "    <tr>\n",
       "      <th>2</th>\n",
       "      <td>1-комнатная квартира, 40 м², 7/9 этаж, АсылАрм...</td>\n",
       "      <td>16</td>\n",
       "      <td>Иргели, Алматинская обл.\\nпоказать на карте</td>\n",
       "      <td>кирпичный</td>\n",
       "      <td>Асыл Арман</td>\n",
       "      <td>2014.0</td>\n",
       "      <td>7 из 9</td>\n",
       "      <td>40 м², Площадь кухни — 11 м²</td>\n",
       "    </tr>\n",
       "    <tr>\n",
       "      <th>3</th>\n",
       "      <td>1-комнатная квартира, 46.1 м², Мусрепова 57/1\\...</td>\n",
       "      <td>12</td>\n",
       "      <td>Талгар, Алматинская обл.\\nпоказать на карте</td>\n",
       "      <td>монолитный</td>\n",
       "      <td>Altyn Beket</td>\n",
       "      <td>2025.0</td>\n",
       "      <td>NaN</td>\n",
       "      <td>46.1 м²</td>\n",
       "    </tr>\n",
       "    <tr>\n",
       "      <th>4</th>\n",
       "      <td>2-комнатная квартира, 57.8 м², 7/12 этаж, мкр ...</td>\n",
       "      <td>36</td>\n",
       "      <td>Алматы, Алатауский р-н\\nпоказать на карте</td>\n",
       "      <td>монолитный</td>\n",
       "      <td>Алмалы</td>\n",
       "      <td>2018.0</td>\n",
       "      <td>7 из 12</td>\n",
       "      <td>57.8 м², Площадь кухни — 10 м²</td>\n",
       "    </tr>\n",
       "  </tbody>\n",
       "</table>\n",
       "</div>"
      ]
     },
     "execution_count": 147,
     "metadata": {},
     "output_type": "execute_result"
    }
   ],
   "execution_count": 147
  },
  {
   "metadata": {
    "ExecuteTime": {
     "end_time": "2024-11-20T10:27:46.233940Z",
     "start_time": "2024-11-20T10:27:46.228537Z"
    }
   },
   "cell_type": "code",
   "source": "data['City'] = data['City'].str.replace(r'\\nпоказать на карте', '', regex=True)",
   "id": "df4269abad53b1e7",
   "outputs": [],
   "execution_count": 148
  },
  {
   "metadata": {
    "ExecuteTime": {
     "end_time": "2024-11-20T10:27:46.856547Z",
     "start_time": "2024-11-20T10:27:46.843031Z"
    }
   },
   "cell_type": "code",
   "source": [
    "# Dividing the 'City' into two: 'City' and 'District'\n",
    "data[['City', 'District']] = data['City'].str.split(', ', expand=True)"
   ],
   "id": "e8a7bf6e6c9ea266",
   "outputs": [],
   "execution_count": 149
  },
  {
   "metadata": {
    "ExecuteTime": {
     "end_time": "2024-11-20T10:27:47.662405Z",
     "start_time": "2024-11-20T10:27:47.643399Z"
    }
   },
   "cell_type": "code",
   "source": "data.head(10)",
   "id": "c784cd5eeb6f95c9",
   "outputs": [
    {
     "data": {
      "text/plain": [
       "                                               Title  Price (in millions) KZT  \\\n",
       "0  3-комнатная квартира, 115 м², 7/21 этаж, Кенес...                       47   \n",
       "1  1-комнатная квартира, 44.3 м², 9/9 этаж, Нурма...                       17   \n",
       "2  1-комнатная квартира, 40 м², 7/9 этаж, АсылАрм...                       16   \n",
       "3  1-комнатная квартира, 46.1 м², Мусрепова 57/1\\...                       12   \n",
       "4  2-комнатная квартира, 57.8 м², 7/12 этаж, мкр ...                       36   \n",
       "5  3-комнатная квартира, 68 м², Красина 11В\\nОста...                       25   \n",
       "6  2-комнатная квартира, 63 м², 1/5 этаж, ЖМ Лесн...                       17   \n",
       "7  2-комнатная квартира, 57 м², 6/9 этаж, Е429 6\\...                       29   \n",
       "8  3-комнатная квартира, 105.13 м², Городская 3\\n...                      189   \n",
       "9  2-комнатная квартира, 65.67 м², 2-улица 8Б\\nОс...                       20   \n",
       "\n",
       "               City Type of house      Map complex  House year Flat floor  \\\n",
       "0            Астана    монолитный     Эдем палас-2      2016.0    7 из 21   \n",
       "1            Астана    монолитный   Grand Victoria      2023.0     9 из 9   \n",
       "2            Иргели     кирпичный       Асыл Арман      2014.0     7 из 9   \n",
       "3            Талгар    монолитный      Altyn Beket      2025.0        NaN   \n",
       "4            Алматы    монолитный           Алмалы      2018.0    7 из 12   \n",
       "5  Усть-Каменогорск    монолитный  Grand Residence      2025.0        NaN   \n",
       "6             Косшы    монолитный    Лесная поляна      2023.0     1 из 5   \n",
       "7            Астана    монолитный          SHYNGYS      2023.0     6 из 9   \n",
       "8            Алматы    монолитный  Tamga Residence      2026.0        NaN   \n",
       "9         Жана Куат    монолитный        Жана Куат      2024.0        NaN   \n",
       "\n",
       "                      live square                     District  \n",
       "0                          115 м²                 р-н Байконур  \n",
       "1  44.3 м², Площадь кухни — 12 м²                   Алматы р-н  \n",
       "2    40 м², Площадь кухни — 11 м²             Алматинская обл.  \n",
       "3                         46.1 м²             Алматинская обл.  \n",
       "4  57.8 м², Площадь кухни — 10 м²               Алатауский р-н  \n",
       "5                           68 м²  Восточно-Казахстанская обл.  \n",
       "6                           63 м²             Акмолинская обл.  \n",
       "7                           57 м²                     Нура р-н  \n",
       "8                       105.13 м²                Медеуский р-н  \n",
       "9                        65.67 м²             Алматинская обл.  "
      ],
      "text/html": [
       "<div>\n",
       "<style scoped>\n",
       "    .dataframe tbody tr th:only-of-type {\n",
       "        vertical-align: middle;\n",
       "    }\n",
       "\n",
       "    .dataframe tbody tr th {\n",
       "        vertical-align: top;\n",
       "    }\n",
       "\n",
       "    .dataframe thead th {\n",
       "        text-align: right;\n",
       "    }\n",
       "</style>\n",
       "<table border=\"1\" class=\"dataframe\">\n",
       "  <thead>\n",
       "    <tr style=\"text-align: right;\">\n",
       "      <th></th>\n",
       "      <th>Title</th>\n",
       "      <th>Price (in millions) KZT</th>\n",
       "      <th>City</th>\n",
       "      <th>Type of house</th>\n",
       "      <th>Map complex</th>\n",
       "      <th>House year</th>\n",
       "      <th>Flat floor</th>\n",
       "      <th>live square</th>\n",
       "      <th>District</th>\n",
       "    </tr>\n",
       "  </thead>\n",
       "  <tbody>\n",
       "    <tr>\n",
       "      <th>0</th>\n",
       "      <td>3-комнатная квартира, 115 м², 7/21 этаж, Кенес...</td>\n",
       "      <td>47</td>\n",
       "      <td>Астана</td>\n",
       "      <td>монолитный</td>\n",
       "      <td>Эдем палас-2</td>\n",
       "      <td>2016.0</td>\n",
       "      <td>7 из 21</td>\n",
       "      <td>115 м²</td>\n",
       "      <td>р-н Байконур</td>\n",
       "    </tr>\n",
       "    <tr>\n",
       "      <th>1</th>\n",
       "      <td>1-комнатная квартира, 44.3 м², 9/9 этаж, Нурма...</td>\n",
       "      <td>17</td>\n",
       "      <td>Астана</td>\n",
       "      <td>монолитный</td>\n",
       "      <td>Grand Victoria</td>\n",
       "      <td>2023.0</td>\n",
       "      <td>9 из 9</td>\n",
       "      <td>44.3 м², Площадь кухни — 12 м²</td>\n",
       "      <td>Алматы р-н</td>\n",
       "    </tr>\n",
       "    <tr>\n",
       "      <th>2</th>\n",
       "      <td>1-комнатная квартира, 40 м², 7/9 этаж, АсылАрм...</td>\n",
       "      <td>16</td>\n",
       "      <td>Иргели</td>\n",
       "      <td>кирпичный</td>\n",
       "      <td>Асыл Арман</td>\n",
       "      <td>2014.0</td>\n",
       "      <td>7 из 9</td>\n",
       "      <td>40 м², Площадь кухни — 11 м²</td>\n",
       "      <td>Алматинская обл.</td>\n",
       "    </tr>\n",
       "    <tr>\n",
       "      <th>3</th>\n",
       "      <td>1-комнатная квартира, 46.1 м², Мусрепова 57/1\\...</td>\n",
       "      <td>12</td>\n",
       "      <td>Талгар</td>\n",
       "      <td>монолитный</td>\n",
       "      <td>Altyn Beket</td>\n",
       "      <td>2025.0</td>\n",
       "      <td>NaN</td>\n",
       "      <td>46.1 м²</td>\n",
       "      <td>Алматинская обл.</td>\n",
       "    </tr>\n",
       "    <tr>\n",
       "      <th>4</th>\n",
       "      <td>2-комнатная квартира, 57.8 м², 7/12 этаж, мкр ...</td>\n",
       "      <td>36</td>\n",
       "      <td>Алматы</td>\n",
       "      <td>монолитный</td>\n",
       "      <td>Алмалы</td>\n",
       "      <td>2018.0</td>\n",
       "      <td>7 из 12</td>\n",
       "      <td>57.8 м², Площадь кухни — 10 м²</td>\n",
       "      <td>Алатауский р-н</td>\n",
       "    </tr>\n",
       "    <tr>\n",
       "      <th>5</th>\n",
       "      <td>3-комнатная квартира, 68 м², Красина 11В\\nОста...</td>\n",
       "      <td>25</td>\n",
       "      <td>Усть-Каменогорск</td>\n",
       "      <td>монолитный</td>\n",
       "      <td>Grand Residence</td>\n",
       "      <td>2025.0</td>\n",
       "      <td>NaN</td>\n",
       "      <td>68 м²</td>\n",
       "      <td>Восточно-Казахстанская обл.</td>\n",
       "    </tr>\n",
       "    <tr>\n",
       "      <th>6</th>\n",
       "      <td>2-комнатная квартира, 63 м², 1/5 этаж, ЖМ Лесн...</td>\n",
       "      <td>17</td>\n",
       "      <td>Косшы</td>\n",
       "      <td>монолитный</td>\n",
       "      <td>Лесная поляна</td>\n",
       "      <td>2023.0</td>\n",
       "      <td>1 из 5</td>\n",
       "      <td>63 м²</td>\n",
       "      <td>Акмолинская обл.</td>\n",
       "    </tr>\n",
       "    <tr>\n",
       "      <th>7</th>\n",
       "      <td>2-комнатная квартира, 57 м², 6/9 этаж, Е429 6\\...</td>\n",
       "      <td>29</td>\n",
       "      <td>Астана</td>\n",
       "      <td>монолитный</td>\n",
       "      <td>SHYNGYS</td>\n",
       "      <td>2023.0</td>\n",
       "      <td>6 из 9</td>\n",
       "      <td>57 м²</td>\n",
       "      <td>Нура р-н</td>\n",
       "    </tr>\n",
       "    <tr>\n",
       "      <th>8</th>\n",
       "      <td>3-комнатная квартира, 105.13 м², Городская 3\\n...</td>\n",
       "      <td>189</td>\n",
       "      <td>Алматы</td>\n",
       "      <td>монолитный</td>\n",
       "      <td>Tamga Residence</td>\n",
       "      <td>2026.0</td>\n",
       "      <td>NaN</td>\n",
       "      <td>105.13 м²</td>\n",
       "      <td>Медеуский р-н</td>\n",
       "    </tr>\n",
       "    <tr>\n",
       "      <th>9</th>\n",
       "      <td>2-комнатная квартира, 65.67 м², 2-улица 8Б\\nОс...</td>\n",
       "      <td>20</td>\n",
       "      <td>Жана Куат</td>\n",
       "      <td>монолитный</td>\n",
       "      <td>Жана Куат</td>\n",
       "      <td>2024.0</td>\n",
       "      <td>NaN</td>\n",
       "      <td>65.67 м²</td>\n",
       "      <td>Алматинская обл.</td>\n",
       "    </tr>\n",
       "  </tbody>\n",
       "</table>\n",
       "</div>"
      ]
     },
     "execution_count": 150,
     "metadata": {},
     "output_type": "execute_result"
    }
   ],
   "execution_count": 150
  },
  {
   "metadata": {
    "ExecuteTime": {
     "end_time": "2024-11-20T10:27:48.318277Z",
     "start_time": "2024-11-20T10:27:48.314576Z"
    }
   },
   "cell_type": "code",
   "source": "data['House year'] = data['House year'].astype(int)",
   "id": "dff14abaa6c452b7",
   "outputs": [],
   "execution_count": 151
  },
  {
   "metadata": {
    "ExecuteTime": {
     "end_time": "2024-11-20T10:27:48.953502Z",
     "start_time": "2024-11-20T10:27:48.939233Z"
    }
   },
   "cell_type": "code",
   "source": "data.head(10)",
   "id": "df2d1bab7339af1e",
   "outputs": [
    {
     "data": {
      "text/plain": [
       "                                               Title  Price (in millions) KZT  \\\n",
       "0  3-комнатная квартира, 115 м², 7/21 этаж, Кенес...                       47   \n",
       "1  1-комнатная квартира, 44.3 м², 9/9 этаж, Нурма...                       17   \n",
       "2  1-комнатная квартира, 40 м², 7/9 этаж, АсылАрм...                       16   \n",
       "3  1-комнатная квартира, 46.1 м², Мусрепова 57/1\\...                       12   \n",
       "4  2-комнатная квартира, 57.8 м², 7/12 этаж, мкр ...                       36   \n",
       "5  3-комнатная квартира, 68 м², Красина 11В\\nОста...                       25   \n",
       "6  2-комнатная квартира, 63 м², 1/5 этаж, ЖМ Лесн...                       17   \n",
       "7  2-комнатная квартира, 57 м², 6/9 этаж, Е429 6\\...                       29   \n",
       "8  3-комнатная квартира, 105.13 м², Городская 3\\n...                      189   \n",
       "9  2-комнатная квартира, 65.67 м², 2-улица 8Б\\nОс...                       20   \n",
       "\n",
       "               City Type of house      Map complex  House year Flat floor  \\\n",
       "0            Астана    монолитный     Эдем палас-2        2016    7 из 21   \n",
       "1            Астана    монолитный   Grand Victoria        2023     9 из 9   \n",
       "2            Иргели     кирпичный       Асыл Арман        2014     7 из 9   \n",
       "3            Талгар    монолитный      Altyn Beket        2025        NaN   \n",
       "4            Алматы    монолитный           Алмалы        2018    7 из 12   \n",
       "5  Усть-Каменогорск    монолитный  Grand Residence        2025        NaN   \n",
       "6             Косшы    монолитный    Лесная поляна        2023     1 из 5   \n",
       "7            Астана    монолитный          SHYNGYS        2023     6 из 9   \n",
       "8            Алматы    монолитный  Tamga Residence        2026        NaN   \n",
       "9         Жана Куат    монолитный        Жана Куат        2024        NaN   \n",
       "\n",
       "                      live square                     District  \n",
       "0                          115 м²                 р-н Байконур  \n",
       "1  44.3 м², Площадь кухни — 12 м²                   Алматы р-н  \n",
       "2    40 м², Площадь кухни — 11 м²             Алматинская обл.  \n",
       "3                         46.1 м²             Алматинская обл.  \n",
       "4  57.8 м², Площадь кухни — 10 м²               Алатауский р-н  \n",
       "5                           68 м²  Восточно-Казахстанская обл.  \n",
       "6                           63 м²             Акмолинская обл.  \n",
       "7                           57 м²                     Нура р-н  \n",
       "8                       105.13 м²                Медеуский р-н  \n",
       "9                        65.67 м²             Алматинская обл.  "
      ],
      "text/html": [
       "<div>\n",
       "<style scoped>\n",
       "    .dataframe tbody tr th:only-of-type {\n",
       "        vertical-align: middle;\n",
       "    }\n",
       "\n",
       "    .dataframe tbody tr th {\n",
       "        vertical-align: top;\n",
       "    }\n",
       "\n",
       "    .dataframe thead th {\n",
       "        text-align: right;\n",
       "    }\n",
       "</style>\n",
       "<table border=\"1\" class=\"dataframe\">\n",
       "  <thead>\n",
       "    <tr style=\"text-align: right;\">\n",
       "      <th></th>\n",
       "      <th>Title</th>\n",
       "      <th>Price (in millions) KZT</th>\n",
       "      <th>City</th>\n",
       "      <th>Type of house</th>\n",
       "      <th>Map complex</th>\n",
       "      <th>House year</th>\n",
       "      <th>Flat floor</th>\n",
       "      <th>live square</th>\n",
       "      <th>District</th>\n",
       "    </tr>\n",
       "  </thead>\n",
       "  <tbody>\n",
       "    <tr>\n",
       "      <th>0</th>\n",
       "      <td>3-комнатная квартира, 115 м², 7/21 этаж, Кенес...</td>\n",
       "      <td>47</td>\n",
       "      <td>Астана</td>\n",
       "      <td>монолитный</td>\n",
       "      <td>Эдем палас-2</td>\n",
       "      <td>2016</td>\n",
       "      <td>7 из 21</td>\n",
       "      <td>115 м²</td>\n",
       "      <td>р-н Байконур</td>\n",
       "    </tr>\n",
       "    <tr>\n",
       "      <th>1</th>\n",
       "      <td>1-комнатная квартира, 44.3 м², 9/9 этаж, Нурма...</td>\n",
       "      <td>17</td>\n",
       "      <td>Астана</td>\n",
       "      <td>монолитный</td>\n",
       "      <td>Grand Victoria</td>\n",
       "      <td>2023</td>\n",
       "      <td>9 из 9</td>\n",
       "      <td>44.3 м², Площадь кухни — 12 м²</td>\n",
       "      <td>Алматы р-н</td>\n",
       "    </tr>\n",
       "    <tr>\n",
       "      <th>2</th>\n",
       "      <td>1-комнатная квартира, 40 м², 7/9 этаж, АсылАрм...</td>\n",
       "      <td>16</td>\n",
       "      <td>Иргели</td>\n",
       "      <td>кирпичный</td>\n",
       "      <td>Асыл Арман</td>\n",
       "      <td>2014</td>\n",
       "      <td>7 из 9</td>\n",
       "      <td>40 м², Площадь кухни — 11 м²</td>\n",
       "      <td>Алматинская обл.</td>\n",
       "    </tr>\n",
       "    <tr>\n",
       "      <th>3</th>\n",
       "      <td>1-комнатная квартира, 46.1 м², Мусрепова 57/1\\...</td>\n",
       "      <td>12</td>\n",
       "      <td>Талгар</td>\n",
       "      <td>монолитный</td>\n",
       "      <td>Altyn Beket</td>\n",
       "      <td>2025</td>\n",
       "      <td>NaN</td>\n",
       "      <td>46.1 м²</td>\n",
       "      <td>Алматинская обл.</td>\n",
       "    </tr>\n",
       "    <tr>\n",
       "      <th>4</th>\n",
       "      <td>2-комнатная квартира, 57.8 м², 7/12 этаж, мкр ...</td>\n",
       "      <td>36</td>\n",
       "      <td>Алматы</td>\n",
       "      <td>монолитный</td>\n",
       "      <td>Алмалы</td>\n",
       "      <td>2018</td>\n",
       "      <td>7 из 12</td>\n",
       "      <td>57.8 м², Площадь кухни — 10 м²</td>\n",
       "      <td>Алатауский р-н</td>\n",
       "    </tr>\n",
       "    <tr>\n",
       "      <th>5</th>\n",
       "      <td>3-комнатная квартира, 68 м², Красина 11В\\nОста...</td>\n",
       "      <td>25</td>\n",
       "      <td>Усть-Каменогорск</td>\n",
       "      <td>монолитный</td>\n",
       "      <td>Grand Residence</td>\n",
       "      <td>2025</td>\n",
       "      <td>NaN</td>\n",
       "      <td>68 м²</td>\n",
       "      <td>Восточно-Казахстанская обл.</td>\n",
       "    </tr>\n",
       "    <tr>\n",
       "      <th>6</th>\n",
       "      <td>2-комнатная квартира, 63 м², 1/5 этаж, ЖМ Лесн...</td>\n",
       "      <td>17</td>\n",
       "      <td>Косшы</td>\n",
       "      <td>монолитный</td>\n",
       "      <td>Лесная поляна</td>\n",
       "      <td>2023</td>\n",
       "      <td>1 из 5</td>\n",
       "      <td>63 м²</td>\n",
       "      <td>Акмолинская обл.</td>\n",
       "    </tr>\n",
       "    <tr>\n",
       "      <th>7</th>\n",
       "      <td>2-комнатная квартира, 57 м², 6/9 этаж, Е429 6\\...</td>\n",
       "      <td>29</td>\n",
       "      <td>Астана</td>\n",
       "      <td>монолитный</td>\n",
       "      <td>SHYNGYS</td>\n",
       "      <td>2023</td>\n",
       "      <td>6 из 9</td>\n",
       "      <td>57 м²</td>\n",
       "      <td>Нура р-н</td>\n",
       "    </tr>\n",
       "    <tr>\n",
       "      <th>8</th>\n",
       "      <td>3-комнатная квартира, 105.13 м², Городская 3\\n...</td>\n",
       "      <td>189</td>\n",
       "      <td>Алматы</td>\n",
       "      <td>монолитный</td>\n",
       "      <td>Tamga Residence</td>\n",
       "      <td>2026</td>\n",
       "      <td>NaN</td>\n",
       "      <td>105.13 м²</td>\n",
       "      <td>Медеуский р-н</td>\n",
       "    </tr>\n",
       "    <tr>\n",
       "      <th>9</th>\n",
       "      <td>2-комнатная квартира, 65.67 м², 2-улица 8Б\\nОс...</td>\n",
       "      <td>20</td>\n",
       "      <td>Жана Куат</td>\n",
       "      <td>монолитный</td>\n",
       "      <td>Жана Куат</td>\n",
       "      <td>2024</td>\n",
       "      <td>NaN</td>\n",
       "      <td>65.67 м²</td>\n",
       "      <td>Алматинская обл.</td>\n",
       "    </tr>\n",
       "  </tbody>\n",
       "</table>\n",
       "</div>"
      ]
     },
     "execution_count": 152,
     "metadata": {},
     "output_type": "execute_result"
    }
   ],
   "execution_count": 152
  },
  {
   "metadata": {
    "ExecuteTime": {
     "end_time": "2024-11-20T10:27:49.664674Z",
     "start_time": "2024-11-20T10:27:49.657260Z"
    }
   },
   "cell_type": "code",
   "source": "data['Rooms'] = data['Title'].str.extract(r'(\\d+)-комнатная')",
   "id": "55b27e892beabd18",
   "outputs": [],
   "execution_count": 153
  },
  {
   "metadata": {
    "ExecuteTime": {
     "end_time": "2024-11-20T10:27:50.282366Z",
     "start_time": "2024-11-20T10:27:50.271921Z"
    }
   },
   "cell_type": "code",
   "source": "data.drop(columns='Title', inplace=True, axis=1)",
   "id": "df0230c6cf8fa910",
   "outputs": [],
   "execution_count": 154
  },
  {
   "metadata": {
    "ExecuteTime": {
     "end_time": "2024-11-20T10:27:51.157799Z",
     "start_time": "2024-11-20T10:27:51.133891Z"
    }
   },
   "cell_type": "code",
   "source": "data.head()",
   "id": "5e5f1fd7e2677548",
   "outputs": [
    {
     "data": {
      "text/plain": [
       "   Price (in millions) KZT    City Type of house     Map complex  House year  \\\n",
       "0                       47  Астана    монолитный    Эдем палас-2        2016   \n",
       "1                       17  Астана    монолитный  Grand Victoria        2023   \n",
       "2                       16  Иргели     кирпичный      Асыл Арман        2014   \n",
       "3                       12  Талгар    монолитный     Altyn Beket        2025   \n",
       "4                       36  Алматы    монолитный          Алмалы        2018   \n",
       "\n",
       "  Flat floor                     live square          District Rooms  \n",
       "0    7 из 21                          115 м²      р-н Байконур     3  \n",
       "1     9 из 9  44.3 м², Площадь кухни — 12 м²        Алматы р-н     1  \n",
       "2     7 из 9    40 м², Площадь кухни — 11 м²  Алматинская обл.     1  \n",
       "3        NaN                         46.1 м²  Алматинская обл.     1  \n",
       "4    7 из 12  57.8 м², Площадь кухни — 10 м²    Алатауский р-н     2  "
      ],
      "text/html": [
       "<div>\n",
       "<style scoped>\n",
       "    .dataframe tbody tr th:only-of-type {\n",
       "        vertical-align: middle;\n",
       "    }\n",
       "\n",
       "    .dataframe tbody tr th {\n",
       "        vertical-align: top;\n",
       "    }\n",
       "\n",
       "    .dataframe thead th {\n",
       "        text-align: right;\n",
       "    }\n",
       "</style>\n",
       "<table border=\"1\" class=\"dataframe\">\n",
       "  <thead>\n",
       "    <tr style=\"text-align: right;\">\n",
       "      <th></th>\n",
       "      <th>Price (in millions) KZT</th>\n",
       "      <th>City</th>\n",
       "      <th>Type of house</th>\n",
       "      <th>Map complex</th>\n",
       "      <th>House year</th>\n",
       "      <th>Flat floor</th>\n",
       "      <th>live square</th>\n",
       "      <th>District</th>\n",
       "      <th>Rooms</th>\n",
       "    </tr>\n",
       "  </thead>\n",
       "  <tbody>\n",
       "    <tr>\n",
       "      <th>0</th>\n",
       "      <td>47</td>\n",
       "      <td>Астана</td>\n",
       "      <td>монолитный</td>\n",
       "      <td>Эдем палас-2</td>\n",
       "      <td>2016</td>\n",
       "      <td>7 из 21</td>\n",
       "      <td>115 м²</td>\n",
       "      <td>р-н Байконур</td>\n",
       "      <td>3</td>\n",
       "    </tr>\n",
       "    <tr>\n",
       "      <th>1</th>\n",
       "      <td>17</td>\n",
       "      <td>Астана</td>\n",
       "      <td>монолитный</td>\n",
       "      <td>Grand Victoria</td>\n",
       "      <td>2023</td>\n",
       "      <td>9 из 9</td>\n",
       "      <td>44.3 м², Площадь кухни — 12 м²</td>\n",
       "      <td>Алматы р-н</td>\n",
       "      <td>1</td>\n",
       "    </tr>\n",
       "    <tr>\n",
       "      <th>2</th>\n",
       "      <td>16</td>\n",
       "      <td>Иргели</td>\n",
       "      <td>кирпичный</td>\n",
       "      <td>Асыл Арман</td>\n",
       "      <td>2014</td>\n",
       "      <td>7 из 9</td>\n",
       "      <td>40 м², Площадь кухни — 11 м²</td>\n",
       "      <td>Алматинская обл.</td>\n",
       "      <td>1</td>\n",
       "    </tr>\n",
       "    <tr>\n",
       "      <th>3</th>\n",
       "      <td>12</td>\n",
       "      <td>Талгар</td>\n",
       "      <td>монолитный</td>\n",
       "      <td>Altyn Beket</td>\n",
       "      <td>2025</td>\n",
       "      <td>NaN</td>\n",
       "      <td>46.1 м²</td>\n",
       "      <td>Алматинская обл.</td>\n",
       "      <td>1</td>\n",
       "    </tr>\n",
       "    <tr>\n",
       "      <th>4</th>\n",
       "      <td>36</td>\n",
       "      <td>Алматы</td>\n",
       "      <td>монолитный</td>\n",
       "      <td>Алмалы</td>\n",
       "      <td>2018</td>\n",
       "      <td>7 из 12</td>\n",
       "      <td>57.8 м², Площадь кухни — 10 м²</td>\n",
       "      <td>Алатауский р-н</td>\n",
       "      <td>2</td>\n",
       "    </tr>\n",
       "  </tbody>\n",
       "</table>\n",
       "</div>"
      ]
     },
     "execution_count": 155,
     "metadata": {},
     "output_type": "execute_result"
    }
   ],
   "execution_count": 155
  },
  {
   "metadata": {
    "ExecuteTime": {
     "end_time": "2024-11-20T10:27:51.951582Z",
     "start_time": "2024-11-20T10:27:51.932379Z"
    }
   },
   "cell_type": "code",
   "source": "data['live square'] = data['live square'].str.extract(r'(\\d+\\.?\\d*)').astype(float)",
   "id": "bfa3de0c907d93b9",
   "outputs": [],
   "execution_count": 156
  },
  {
   "metadata": {
    "ExecuteTime": {
     "end_time": "2024-11-20T10:27:52.939136Z",
     "start_time": "2024-11-20T10:27:52.924221Z"
    }
   },
   "cell_type": "code",
   "source": "data = data.rename(columns={'live square':'live square (in м²)'})",
   "id": "713df3d3d6e99bba",
   "outputs": [],
   "execution_count": 157
  },
  {
   "metadata": {
    "ExecuteTime": {
     "end_time": "2024-11-20T10:27:53.511592Z",
     "start_time": "2024-11-20T10:27:53.506789Z"
    }
   },
   "cell_type": "code",
   "source": "data.shape",
   "id": "869c0e7304fca16b",
   "outputs": [
    {
     "data": {
      "text/plain": [
       "(4474, 9)"
      ]
     },
     "execution_count": 158,
     "metadata": {},
     "output_type": "execute_result"
    }
   ],
   "execution_count": 158
  },
  {
   "metadata": {
    "ExecuteTime": {
     "end_time": "2024-11-20T10:27:54.220479Z",
     "start_time": "2024-11-20T10:27:54.214546Z"
    }
   },
   "cell_type": "code",
   "source": "data.isnull().sum()",
   "id": "955f105a3c32c020",
   "outputs": [
    {
     "data": {
      "text/plain": [
       "Price (in millions) KZT       0\n",
       "City                          0\n",
       "Type of house               146\n",
       "Map complex                1101\n",
       "House year                    0\n",
       "Flat floor                 1763\n",
       "live square (in м²)           0\n",
       "District                    204\n",
       "Rooms                         0\n",
       "dtype: int64"
      ]
     },
     "execution_count": 159,
     "metadata": {},
     "output_type": "execute_result"
    }
   ],
   "execution_count": 159
  },
  {
   "metadata": {
    "ExecuteTime": {
     "end_time": "2024-11-20T10:27:58.137209Z",
     "start_time": "2024-11-20T10:27:58.134203Z"
    }
   },
   "cell_type": "code",
   "source": "data['Type of house'].fillna(\"Unknown\", inplace=True)",
   "id": "241abfd3ce63c9d7",
   "outputs": [],
   "execution_count": 161
  },
  {
   "metadata": {
    "ExecuteTime": {
     "end_time": "2024-11-20T10:28:00.365180Z",
     "start_time": "2024-11-20T10:28:00.362323Z"
    }
   },
   "cell_type": "code",
   "source": "data['Map complex'].fillna(\"Not Specified\", inplace=True)",
   "id": "abdfbb5125d7d661",
   "outputs": [],
   "execution_count": 163
  },
  {
   "metadata": {
    "ExecuteTime": {
     "end_time": "2024-11-20T10:28:07.408692Z",
     "start_time": "2024-11-20T10:28:07.403669Z"
    }
   },
   "cell_type": "code",
   "source": "data['District'].fillna(\"Unknown\", inplace=True)",
   "id": "c40634b3564545e6",
   "outputs": [],
   "execution_count": 167
  },
  {
   "metadata": {
    "ExecuteTime": {
     "end_time": "2024-11-20T10:28:08.957646Z",
     "start_time": "2024-11-20T10:28:08.938327Z"
    }
   },
   "cell_type": "code",
   "source": "data.isnull().sum()",
   "id": "3e83981b57ffad59",
   "outputs": [
    {
     "data": {
      "text/plain": [
       "Price (in millions) KZT    0\n",
       "City                       0\n",
       "Type of house              0\n",
       "Map complex                0\n",
       "House year                 0\n",
       "Flat floor                 0\n",
       "live square (in м²)        0\n",
       "District                   0\n",
       "Rooms                      0\n",
       "dtype: int64"
      ]
     },
     "execution_count": 168,
     "metadata": {},
     "output_type": "execute_result"
    }
   ],
   "execution_count": 168
  },
  {
   "metadata": {
    "ExecuteTime": {
     "end_time": "2024-11-20T10:28:29.312352Z",
     "start_time": "2024-11-20T10:28:29.304277Z"
    }
   },
   "cell_type": "code",
   "source": [
    "# The new order\n",
    "new_column_order = ['City', 'District', 'Map complex', 'Rooms', 'Type of house', \n",
    "                    'House year', 'Flat floor', 'live square (in м²)', 'Price (in millions) KZT']\n",
    "\n",
    "# Applying the new order\n",
    "data = data[new_column_order]"
   ],
   "id": "ac6be94d7644772b",
   "outputs": [],
   "execution_count": 170
  },
  {
   "metadata": {
    "ExecuteTime": {
     "end_time": "2024-11-20T10:28:30.456796Z",
     "start_time": "2024-11-20T10:28:30.442719Z"
    }
   },
   "cell_type": "code",
   "source": "data.head()",
   "id": "c65c8bb5aa572bcf",
   "outputs": [
    {
     "data": {
      "text/plain": [
       "     City          District     Map complex Rooms Type of house  House year  \\\n",
       "0  Астана      р-н Байконур    Эдем палас-2     3    монолитный        2016   \n",
       "1  Астана        Алматы р-н  Grand Victoria     1    монолитный        2023   \n",
       "2  Иргели  Алматинская обл.      Асыл Арман     1     кирпичный        2014   \n",
       "3  Талгар  Алматинская обл.     Altyn Beket     1    монолитный        2025   \n",
       "4  Алматы    Алатауский р-н          Алмалы     2    монолитный        2018   \n",
       "\n",
       "   Flat floor  live square (in м²)  Price (in millions) KZT  \n",
       "0           7                115.0                       47  \n",
       "1           9                 44.3                       17  \n",
       "2           7                 40.0                       16  \n",
       "3           5                 46.1                       12  \n",
       "4           7                 57.8                       36  "
      ],
      "text/html": [
       "<div>\n",
       "<style scoped>\n",
       "    .dataframe tbody tr th:only-of-type {\n",
       "        vertical-align: middle;\n",
       "    }\n",
       "\n",
       "    .dataframe tbody tr th {\n",
       "        vertical-align: top;\n",
       "    }\n",
       "\n",
       "    .dataframe thead th {\n",
       "        text-align: right;\n",
       "    }\n",
       "</style>\n",
       "<table border=\"1\" class=\"dataframe\">\n",
       "  <thead>\n",
       "    <tr style=\"text-align: right;\">\n",
       "      <th></th>\n",
       "      <th>City</th>\n",
       "      <th>District</th>\n",
       "      <th>Map complex</th>\n",
       "      <th>Rooms</th>\n",
       "      <th>Type of house</th>\n",
       "      <th>House year</th>\n",
       "      <th>Flat floor</th>\n",
       "      <th>live square (in м²)</th>\n",
       "      <th>Price (in millions) KZT</th>\n",
       "    </tr>\n",
       "  </thead>\n",
       "  <tbody>\n",
       "    <tr>\n",
       "      <th>0</th>\n",
       "      <td>Астана</td>\n",
       "      <td>р-н Байконур</td>\n",
       "      <td>Эдем палас-2</td>\n",
       "      <td>3</td>\n",
       "      <td>монолитный</td>\n",
       "      <td>2016</td>\n",
       "      <td>7</td>\n",
       "      <td>115.0</td>\n",
       "      <td>47</td>\n",
       "    </tr>\n",
       "    <tr>\n",
       "      <th>1</th>\n",
       "      <td>Астана</td>\n",
       "      <td>Алматы р-н</td>\n",
       "      <td>Grand Victoria</td>\n",
       "      <td>1</td>\n",
       "      <td>монолитный</td>\n",
       "      <td>2023</td>\n",
       "      <td>9</td>\n",
       "      <td>44.3</td>\n",
       "      <td>17</td>\n",
       "    </tr>\n",
       "    <tr>\n",
       "      <th>2</th>\n",
       "      <td>Иргели</td>\n",
       "      <td>Алматинская обл.</td>\n",
       "      <td>Асыл Арман</td>\n",
       "      <td>1</td>\n",
       "      <td>кирпичный</td>\n",
       "      <td>2014</td>\n",
       "      <td>7</td>\n",
       "      <td>40.0</td>\n",
       "      <td>16</td>\n",
       "    </tr>\n",
       "    <tr>\n",
       "      <th>3</th>\n",
       "      <td>Талгар</td>\n",
       "      <td>Алматинская обл.</td>\n",
       "      <td>Altyn Beket</td>\n",
       "      <td>1</td>\n",
       "      <td>монолитный</td>\n",
       "      <td>2025</td>\n",
       "      <td>5</td>\n",
       "      <td>46.1</td>\n",
       "      <td>12</td>\n",
       "    </tr>\n",
       "    <tr>\n",
       "      <th>4</th>\n",
       "      <td>Алматы</td>\n",
       "      <td>Алатауский р-н</td>\n",
       "      <td>Алмалы</td>\n",
       "      <td>2</td>\n",
       "      <td>монолитный</td>\n",
       "      <td>2018</td>\n",
       "      <td>7</td>\n",
       "      <td>57.8</td>\n",
       "      <td>36</td>\n",
       "    </tr>\n",
       "  </tbody>\n",
       "</table>\n",
       "</div>"
      ]
     },
     "execution_count": 171,
     "metadata": {},
     "output_type": "execute_result"
    }
   ],
   "execution_count": 171
  },
  {
   "metadata": {
    "ExecuteTime": {
     "end_time": "2024-11-20T10:30:11.451044Z",
     "start_time": "2024-11-20T10:30:11.408665Z"
    }
   },
   "cell_type": "code",
   "source": "data.to_csv('processed_sell_data.csv')",
   "id": "45af897e0a8cde67",
   "outputs": [],
   "execution_count": 172
  }
 ],
 "metadata": {
  "kernelspec": {
   "display_name": "Python 3",
   "language": "python",
   "name": "python3"
  },
  "language_info": {
   "codemirror_mode": {
    "name": "ipython",
    "version": 2
   },
   "file_extension": ".py",
   "mimetype": "text/x-python",
   "name": "python",
   "nbconvert_exporter": "python",
   "pygments_lexer": "ipython2",
   "version": "2.7.6"
  }
 },
 "nbformat": 4,
 "nbformat_minor": 5
}
